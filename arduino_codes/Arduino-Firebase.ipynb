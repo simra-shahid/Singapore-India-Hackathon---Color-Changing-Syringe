{
 "cells": [
  {
   "cell_type": "markdown",
   "metadata": {},
   "source": [
    "# Arduino IR Syringe Counter"
   ]
  },
  {
   "cell_type": "code",
   "execution_count": 4,
   "metadata": {},
   "outputs": [
    {
     "name": "stdout",
     "output_type": "stream",
     "text": [
      "Detected: 2\n"
     ]
    },
    {
     "data": {
      "text/plain": [
       "1"
      ]
     },
     "execution_count": 4,
     "metadata": {},
     "output_type": "execute_result"
    }
   ],
   "source": [
    "from serial import Serial\n",
    "\n",
    "def getFromArduino():\n",
    "    \n",
    "    ser = Serial('COM3', 9600)\n",
    "    #time.sleep(2)\n",
    "    #ser.write('5'.encode())\n",
    "    \n",
    "    b = ser.readline()\n",
    "    b = b.decode()\n",
    "    b = b.rstrip()\n",
    "    b = int(b)\n",
    "    \n",
    "    if b:\n",
    "        b=b//2\n",
    "        \n",
    "    ser.write('5'.encode())\n",
    "    ser.close()\n",
    "\n",
    "    return b\n",
    "\n"
   ]
  },
  {
   "cell_type": "markdown",
   "metadata": {},
   "source": [
    "# Firebase Connection"
   ]
  },
  {
   "cell_type": "code",
   "execution_count": 1,
   "metadata": {},
   "outputs": [
    {
     "data": {
      "text/plain": [
       "<firebase_admin.App at 0x29f970ca7b8>"
      ]
     },
     "execution_count": 1,
     "metadata": {},
     "output_type": "execute_result"
    }
   ],
   "source": [
    "import firebase_admin\n",
    "from firebase_admin import credentials\n",
    "from firebase_admin import db\n",
    "\n",
    "# Fetch the service account key JSON file contents\n",
    "cred = credentials.Certificate('hospital-eb87b-firebase-adminsdk-6q591-cbc9b4550e.json')\n",
    "# Initialize the app with a service account, granting admin privileges\n",
    "firebase_admin.initialize_app(cred, {\n",
    "    'databaseURL': 'https://hospital-eb87b.firebaseio.com/'\n",
    "})"
   ]
  },
  {
   "cell_type": "code",
   "execution_count": 2,
   "metadata": {},
   "outputs": [],
   "source": [
    "from datetime import datetime\n",
    "import serial\n",
    "import time\n",
    "\n",
    "counter = 0\n",
    "\n",
    "#Get the syringes crushed from Arduino\n",
    "def updateDb(doctor,dustbin,syringes_taken):\n",
    "    \n",
    "    ref = db.reference('/')\n",
    "    doctor_ref = ref.child('doctor')\n",
    "    \n",
    "    global counter\n",
    "    counter+=1\n",
    "    \n",
    "    now = datetime.now()\n",
    "    current_time = now.strftime(\"%d %B %Y %H:%M:%S\")\n",
    "    \n",
    "    #syringes_crushed = getFromArduino()\n",
    "\n",
    "    doctor_ref.child(doctor).child(\"t_id_\"+str(counter)).update({\n",
    "        'dustbin_id': dustbin,\n",
    "        'time_received' : current_time,\n",
    "        'syringes_taken' : syringes_taken ,\n",
    "        'syringe_crushed' : 100 #syringes_crushed\n",
    "    })\n",
    "    "
   ]
  },
  {
   "cell_type": "markdown",
   "metadata": {},
   "source": [
    "# Get from Android "
   ]
  },
  {
   "cell_type": "code",
   "execution_count": 3,
   "metadata": {},
   "outputs": [],
   "source": [
    "updateDb(\"Simra\",\"haisidy8asodhas8u\",\"5\")\n",
    "updateDb(\"Nikhil\",\"sdfjdshvnvfd\",\"10\")\n",
    "updateDb(\"Shivam\",\"hjyjeryae\",\"10\")"
   ]
  },
  {
   "cell_type": "markdown",
   "metadata": {},
   "source": [
    "### Xampp Connection\n",
    "\n",
    "\n",
    "import MySQLdb\n",
    "#import serial\n",
    "import time\n",
    "\n",
    "def makeDbConnection():\n",
    "    \n",
    "    db = MySQLdb.connect(\"localhost\",\"root\",\"\",\"hospital\" )\n",
    "    print(\"Connected\")\n",
    "    cursor = db.cursor()\n",
    "    cursor.execute(\"SELECT * from hospital\")\n",
    "    data = cursor.fetchall()\n",
    "    print(data)\n",
    "\n",
    "#def makeSerialConnection():\n",
    "    \n",
    "    \n",
    "\n",
    "makeDbConnection()\n",
    "#makeSerialConnection()"
   ]
  },
  {
   "cell_type": "code",
   "execution_count": null,
   "metadata": {},
   "outputs": [],
   "source": []
  }
 ],
 "metadata": {
  "kernelspec": {
   "display_name": "Python 3",
   "language": "python",
   "name": "python3"
  },
  "language_info": {
   "codemirror_mode": {
    "name": "ipython",
    "version": 3
   },
   "file_extension": ".py",
   "mimetype": "text/x-python",
   "name": "python",
   "nbconvert_exporter": "python",
   "pygments_lexer": "ipython3",
   "version": "3.7.3"
  }
 },
 "nbformat": 4,
 "nbformat_minor": 2
}
